{
 "cells": [
  {
   "cell_type": "markdown",
   "id": "f8a7d310-5a5f-4376-9c99-a385ca7f5ab3",
   "metadata": {},
   "source": [
    "<center>\n",
    "    <img src=\"https://cf-courses-data.s3.us.cloud-object-storage.appdomain.cloud/IBMDeveloperSkillsNetwork-DS0105EN-SkillsNetwork/labs/Module2/images/SN_web_lightmode.png\" width=\"300\" alt=\"cognitiveclass.ai logo\">\n",
    "</center>"
   ]
  },
  {
   "cell_type": "markdown",
   "id": "f6f1c8b2-e097-42b6-bad4-5091dfdec039",
   "metadata": {},
   "source": [
    "#### Add your code below following the instructions given in the course\n"
   ]
  },
  {
   "cell_type": "markdown",
   "id": "6984feb0-ef55-4dc4-baa2-6dbe15423ba5",
   "metadata": {},
   "source": [
    "# Data Science Tools and Ecosystem\n"
   ]
  },
  {
   "cell_type": "markdown",
   "id": "71ccb61d-3e57-4445-9d7a-c390fa0a7bb1",
   "metadata": {},
   "source": [
    "This notebook introduces the tools and ecosystem of Data Science."
   ]
  },
  {
   "cell_type": "markdown",
   "id": "867ccfca-9029-4f10-8940-1e471bbfac4d",
   "metadata": {},
   "source": [
    "Goals:\n",
    "* List popular languages for Data Science\n",
    "* List popular libraries used by data science specialists\n",
    "* List Data Science Tools\n",
    "* List some examples of evaluating arithmetic expressions in Python"
   ]
  },
  {
   "cell_type": "markdown",
   "id": "06e1869e-8f1a-498e-8cca-5b0e5f9cc710",
   "metadata": {},
   "source": [
    "Some of the popular languages ​​that Data Scientists use are:\n",
    "1. Python\n",
    "2. R\n",
    "3. SQL\n",
    "4. Java\n",
    "5. JavaScript\n",
    "6. C/C++"
   ]
  },
  {
   "cell_type": "markdown",
   "id": "b7143cc0-0fe3-4a91-981d-3b707e71af77",
   "metadata": {},
   "source": [
    "Some of the commonly used libraries that Data Scientists use include:\n",
    "1. Pandas\n",
    "2. TensorFLow\n",
    "3. Seaborn\n",
    "4. MatPlotLib\n",
    "5. ggplot\n"
   ]
  },
  {
   "cell_type": "markdown",
   "id": "da6d7242-2991-4374-8053-6dd8477ab6b7",
   "metadata": {},
   "source": [
    "|Data Science Tools|\n",
    "|------------------------|\n",
    "|RStudio|\n",
    "|Jupyter Notebooke|\n",
    "|Appache Zeppelin| \n"
   ]
  },
  {
   "cell_type": "markdown",
   "id": "eca6a931-3980-4092-aeea-d1edf8c91fbf",
   "metadata": {},
   "source": [
    "### Below are some examples of evaluating arithmetic expressions in Python\n",
    "1. 2+3\n",
    "2. 15-4\n",
    "3. 5*5\n",
    "4. 4/2"
   ]
  },
  {
   "cell_type": "code",
   "execution_count": 9,
   "id": "86ab62d4-ff20-42bb-8c97-8c329497c03b",
   "metadata": {},
   "outputs": [
    {
     "data": {
      "text/plain": [
       "17"
      ]
     },
     "execution_count": 9,
     "metadata": {},
     "output_type": "execute_result"
    }
   ],
   "source": [
    "#This is a simple arithmetic expression for multiplying and then adding integers\n",
    "(3*4)+5"
   ]
  },
  {
   "cell_type": "code",
   "execution_count": 10,
   "id": "027c3b6d-979e-4f62-b368-49bd505ff692",
   "metadata": {},
   "outputs": [
    {
     "data": {
      "text/plain": [
       "3.3333333333333335"
      ]
     },
     "execution_count": 10,
     "metadata": {},
     "output_type": "execute_result"
    }
   ],
   "source": [
    "#This will convert 200 minutes to hours by dividing by 60\n",
    "200/60"
   ]
  },
  {
   "cell_type": "markdown",
   "id": "89e6163c-6b44-4fe7-a14a-010bac7c3077",
   "metadata": {},
   "source": [
    "## Author\n",
    "Pavel"
   ]
  }
 ],
 "metadata": {
  "kernelspec": {
   "display_name": "Python 3 (ipykernel)",
   "language": "python",
   "name": "python3"
  },
  "language_info": {
   "codemirror_mode": {
    "name": "ipython",
    "version": 3
   },
   "file_extension": ".py",
   "mimetype": "text/x-python",
   "name": "python",
   "nbconvert_exporter": "python",
   "pygments_lexer": "ipython3",
   "version": "3.11.9"
  }
 },
 "nbformat": 4,
 "nbformat_minor": 5
}
